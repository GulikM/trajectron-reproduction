{
 "cells": [
  {
   "cell_type": "code",
   "execution_count": 5,
   "id": "0c364393",
   "metadata": {},
   "outputs": [],
   "source": [
    "from preprocessing import import_ped_data\n",
    "import pandas as pd\n",
    "import pathlib\n",
    "import matplotlib.pyplot as plt\n",
    "import numpy as np\n",
    "import torch\n",
    "import torch.nn as nn\n",
    "import ipywidgets\n",
    "from IPython.display import display\n",
    "\n",
    "\n",
    "\n",
    "inpath = pathlib.Path('C:/Users/maart/Documents/GitHub/Trajectron-reproduction/data/pedestrians/eth/train/biwi_hotel_train.txt', safe=False)\n",
    "df = import_ped_data(inpath)\n"
   ]
  },
  {
   "cell_type": "code",
   "execution_count": 12,
   "id": "796b5808",
   "metadata": {},
   "outputs": [
    {
     "data": {
      "image/png": "[encoded data removed]",
      "text/plain": [
       "<Figure size 432x288 with 1 Axes>"
      ]
     },
     "metadata": {
      "needs_background": "light"
     },
     "output_type": "display_data"
    },
    {
     "data": {
      "text/plain": [
       "<function __main__.plot_data(t)>"
      ]
     },
     "execution_count": 12,
     "metadata": {},
     "output_type": "execute_result"
    }
   ],
   "source": [
    "def plot_data(t):\n",
    "    \n",
    "    inpath = pathlib.Path('C:/Users/maart/Documents/GitHub/Trajectron-reproduction/data/pedestrians/eth/train/biwi_hotel_train.txt', safe=False)\n",
    "    df = import_ped_data(inpath)\n",
    "    plt.figure\n",
    "    df = df.loc[df['t'] == t]\n",
    "    plt.scatter(df['x'],df['y'],  c=df['id'])\n",
    "        \n",
    "    plt.ylabel('y (m)')\n",
    "    plt.xlabel('x (m)')\n",
    "    plt.show()\n",
    "\n",
    "    \n",
    "\n",
    "ipywidgets.interact(plot_data, t=(0,100))\n",
    "    \n"
   ]
  },
  {
   "cell_type": "code",
   "execution_count": null,
   "id": "3d3ba40d",
   "metadata": {},
   "outputs": [],
   "source": []
  }
 ],
 "metadata": {
  "kernelspec": {
   "display_name": "Python 3 (ipykernel)",
   "language": "python",
   "name": "python3"
  },
  "language_info": {
   "codemirror_mode": {
    "name": "ipython",
    "version": 3
   },
   "file_extension": ".py",
   "mimetype": "text/x-python",
   "name": "python",
   "nbconvert_exporter": "python",
   "pygments_lexer": "ipython3",
   "version": "3.8.12"
  }
 },
 "nbformat": 4,
 "nbformat_minor": 5
}
